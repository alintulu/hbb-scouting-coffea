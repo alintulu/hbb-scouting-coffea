{
 "cells": [
  {
   "cell_type": "code",
   "execution_count": 1,
   "id": "5e42c025",
   "metadata": {},
   "outputs": [],
   "source": [
    "import os, subprocess\n",
    "import json\n",
    "import uproot3\n",
    "import awkward as ak\n",
    "import numpy as np\n",
    "from coffea import processor, util, hist\n",
    "\n",
    "import matplotlib.pyplot as plt\n",
    "\n",
    "import warnings\n",
    "warnings.filterwarnings('ignore')"
   ]
  },
  {
   "cell_type": "code",
   "execution_count": 2,
   "id": "07030392",
   "metadata": {},
   "outputs": [],
   "source": [
    "with open('xsec.json') as f:\n",
    "  xs = json.load(f)\n",
    "\n",
    "with open('pmap_hbb.json') as f:\n",
    "  pmap = json.load(f)\n",
    "\n",
    "#del pmap['ggF-powheg']\n",
    "#del pmap['muondata']\n",
    "#del pmap['data']"
   ]
  },
  {
   "cell_type": "code",
   "execution_count": 3,
   "id": "cee9c484",
   "metadata": {},
   "outputs": [],
   "source": [
    "lumis = {}\n",
    "lumis['2016'] = 35.9\n",
    "lumis['2017'] = 41.5\n",
    "lumis['2018'] = 59.2\n",
    "\n",
    "year='2017'"
   ]
  },
  {
   "cell_type": "code",
   "execution_count": 4,
   "id": "fecfe529",
   "metadata": {},
   "outputs": [
    {
     "name": "stdout",
     "output_type": "stream",
     "text": [
      "Loading ../outfiles/notrigger/chunksize10000_noselection/2017_dask_higgs.coffea\n",
      "Loading ../outfiles/notrigger/chunksize10000_noselection/2017_dask_qcd.coffea\n",
      "Loading ../outfiles/notrigger/chunksize10000_noselection/2017_dask_top.coffea\n",
      "Loading ../outfiles/notrigger/chunksize10000_noselection/2017_dask_wandvv.coffea\n",
      "Loading ../outfiles/notrigger/chunksize10000_noselection/2017_dask_z.coffea\n"
     ]
    }
   ],
   "source": [
    "# Read in files with no selection\n",
    "indir = \"../outfiles/notrigger/chunksize10000_noselection/\"\n",
    "infiles = subprocess.getoutput(\"ls \"+indir+year+\"*.coffea\").split()\n",
    "outsum_nosel = processor.dict_accumulator()\n",
    "\n",
    "# Check if pickle exists, remove it if it does                                                                             \n",
    "picklename = str(year)+'/templates.pkl'\n",
    "if os.path.isfile(picklename):\n",
    "    os.remove(picklename)\n",
    "    \n",
    "started = 0\n",
    "for filename in infiles:\n",
    "\n",
    "    print(\"Loading \"+filename)\n",
    "\n",
    "    if os.path.isfile(filename):\n",
    "        out = util.load(filename)\n",
    "\n",
    "        if started == 0:\n",
    "            outsum_nosel['templates'] = out['templates']\n",
    "            outsum_nosel['sumw'] = out['sumw']\n",
    "            started += 1\n",
    "        else:\n",
    "            outsum_nosel['templates'].add(out['templates'])\n",
    "            outsum_nosel['sumw'].add(out['sumw'])\n",
    "    \n",
    "        del out"
   ]
  },
  {
   "cell_type": "code",
   "execution_count": 5,
   "id": "78b8bf79",
   "metadata": {},
   "outputs": [],
   "source": [
    "# Create template out of no selection events\n",
    "scale_lumi_nosel = {k: xs[k] * 1000 *lumis[year] / w for k, w in outsum_nosel['sumw'].items()}\n",
    "outsum_nosel['templates'].scale(scale_lumi_nosel, 'dataset')\n",
    "\n",
    "templates_nosel = outsum_nosel['templates'].group('dataset', hist.Cat('process', 'Process'), pmap)"
   ]
  },
  {
   "cell_type": "code",
   "execution_count": 6,
   "id": "259a1737",
   "metadata": {},
   "outputs": [
    {
     "name": "stdout",
     "output_type": "stream",
     "text": [
      "Loading ../outfiles/notrigger/chunksize100000/2017_dask_data.coffea\n",
      "Loading ../outfiles/notrigger/chunksize100000/2017_dask_higgs.coffea\n",
      "Loading ../outfiles/notrigger/chunksize100000/2017_dask_qcd.coffea\n",
      "Loading ../outfiles/notrigger/chunksize100000/2017_dask_top.coffea\n",
      "Loading ../outfiles/notrigger/chunksize100000/2017_dask_wandvv.coffea\n",
      "Loading ../outfiles/notrigger/chunksize100000/2017_dask_z.coffea\n"
     ]
    }
   ],
   "source": [
    "# Read in files with selection\n",
    "indir = \"../outfiles/notrigger/chunksize100000/\"\n",
    "infiles = subprocess.getoutput(\"ls \"+indir+year+\"*.coffea\").split()\n",
    "outsum_sel = processor.dict_accumulator()\n",
    "\n",
    "# Check if pickle exists, remove it if it does                                                                             \n",
    "picklename = str(year)+'/templates.pkl'\n",
    "if os.path.isfile(picklename):\n",
    "    os.remove(picklename)\n",
    "    \n",
    "started = 0\n",
    "for filename in infiles:\n",
    "\n",
    "    print(\"Loading \"+filename)\n",
    "\n",
    "    if os.path.isfile(filename):\n",
    "        out = util.load(filename)\n",
    "\n",
    "        if started == 0:\n",
    "            outsum_sel['templates'] = out['templates']\n",
    "            outsum_sel['sumw'] = out['sumw']\n",
    "            started += 1\n",
    "        else:\n",
    "            outsum_sel['templates'].add(out['templates'])\n",
    "            outsum_sel['sumw'].add(out['sumw'])\n",
    "    \n",
    "        del out"
   ]
  },
  {
   "cell_type": "code",
   "execution_count": 7,
   "id": "10ffe9ca",
   "metadata": {},
   "outputs": [],
   "source": [
    "# Create template out of selection events\n",
    "scale_lumi_sel = {k: xs[k] * 1000 *lumis[year] / w for k, w in outsum_sel['sumw'].items()}\n",
    "outsum_sel['templates'].scale(scale_lumi_sel, 'dataset')\n",
    "\n",
    "templates_sel = outsum_sel['templates'].group('dataset', hist.Cat('process', 'Process'), pmap)"
   ]
  },
  {
   "cell_type": "code",
   "execution_count": 58,
   "id": "1a8f47d6",
   "metadata": {},
   "outputs": [
    {
     "name": "stdout",
     "output_type": "stream",
     "text": [
      "Sig. sel. eff. for msd > 105 && msd < 145\n",
      "\n",
      "pass pt > 350: 0.557088202298999\n",
      "pass pt > 450: 0.3864236720657009\n",
      "\n",
      "Sig. sel. eff. for msd > 105 && msd < 145\n",
      "\n",
      "fail pt > 350: 0.2588498922508424\n",
      "fail pt > 450: 0.16631720680494166\n",
      "\n"
     ]
    },
    {
     "data": {
      "image/png": "[encoded data removed]",
      "text/plain": [
       "<Figure size 432x288 with 1 Axes>"
      ]
     },
     "metadata": {
      "needs_background": "light"
     },
     "output_type": "display_data"
    },
    {
     "data": {
      "image/png": "[encoded data removed]",
      "text/plain": [
       "<Figure size 432x288 with 1 Axes>"
      ]
     },
     "metadata": {
      "needs_background": "light"
     },
     "output_type": "display_data"
    }
   ],
   "source": [
    "ddb_regions = [\"pass\", \"fail\"]\n",
    "\n",
    "for ddb_region in ddb_regions:\n",
    "    if ddb_region == 'pass':\n",
    "        ddb_l = 0.64\n",
    "        ddb_r = 1\n",
    "    elif ddb_region == 'fail':\n",
    "        ddb_l = 0\n",
    "        ddb_r = 0.64\n",
    "\n",
    "    # Histogram of signal with no selection\n",
    "    h_nosel = templates_nosel['H(bb)'].integrate('region','noselection').sum('genflavor', 'pt1').integrate('ddb1',int_range=slice(ddb_l,ddb_r))\n",
    "        \n",
    "    # Histogram of signal with selection (pt > 350)  \n",
    "    pt_region = 350\n",
    "    h_sel_pt350 = templates_sel['H(bb)'].integrate('region','signal').sum('genflavor').integrate('pt1',int_range=slice(pt_region,1200)).integrate('ddb1',int_range=slice(ddb_l,ddb_r))\n",
    "\n",
    "    # Histogram of signal with selection (pt > 450) \n",
    "    pt_region = 450\n",
    "    h_sel_pt450 = templates_sel['H(bb)'].integrate('region','signal').sum('genflavor').integrate('pt1',int_range=slice(pt_region,1200)).integrate('ddb1',int_range=slice(ddb_l,ddb_r))\n",
    "\n",
    "    data_err_opts = {\n",
    "            'linestyle': 'none',\n",
    "            'marker': '.',\n",
    "            'markersize': 10.,\n",
    "            'color': '#a6cee3',\n",
    "            'elinewidth': 1,\n",
    "        }\n",
    "    \n",
    "    fig, ax = plt.subplots(1, 1)\n",
    "    # Plot ratio of with selection (pt > 350) and no selection\n",
    "    hist.plotratio(\n",
    "            num=h_sel_pt350.sum(\"process\"),\n",
    "            denom=h_nosel.sum(\"process\"),\n",
    "            clear=False,\n",
    "            ax=ax,\n",
    "            error_opts=data_err_opts,\n",
    "            label=r'p$_{T}$ > 350'\n",
    "        )\n",
    "    \n",
    "    data_err_opts['color'] = '#1f78b4'\n",
    "    \n",
    "    # Plot ratio of with selection (pt > 450) and no selection\n",
    "    hist.plotratio(\n",
    "            num=h_sel_pt450.sum(\"process\"),\n",
    "            denom=h_nosel.sum(\"process\"),\n",
    "            clear=False,\n",
    "            ax=ax,\n",
    "            error_opts=data_err_opts,\n",
    "            label=r'p$_{T}$ > 450'\n",
    "        )\n",
    "    \n",
    "    leg = ax.legend()\n",
    "    ax.set_title('(ddb {0})'.format(ddb_region), loc='right')\n",
    "    ax.set_title('Signal selection efficiency')\n",
    "    \n",
    "    # Compute signal selection efficiency in signal region (msd > 105 && msd < 145)\n",
    "    sig_sel_eff_350 = h_sel_pt350.sum('process').integrate('msd1', slice(105, 145)).values()[()]\n",
    "    sig_sel_eff_450 = h_sel_pt450.sum('process').integrate('msd1', slice(105, 145)).values()[()]\n",
    "    sig_sel_eff_nosel = h_nosel.sum('process').integrate('msd1', slice(105, 145)).values()[()]\n",
    "    \n",
    "    print('Sig. sel. eff. for msd > 105 && msd < 145\\n')\n",
    "    print('{0} pt > 350: {1}'.format(ddb_region, sig_sel_eff_350/sig_sel_eff_nosel))\n",
    "    print('{0} pt > 450: {1}\\n'.format(ddb_region, sig_sel_eff_450/sig_sel_eff_nosel))\n",
    "    \n",
    "    fig.savefig('../plots/sig_sel_eff/Hbb_' + ddb_region + '.png')"
   ]
  },
  {
   "cell_type": "code",
   "execution_count": null,
   "id": "0876d968",
   "metadata": {},
   "outputs": [],
   "source": []
  }
 ],
 "metadata": {
  "kernelspec": {
   "display_name": "Python 3 (ipykernel)",
   "language": "python",
   "name": "python3"
  },
  "language_info": {
   "codemirror_mode": {
    "name": "ipython",
    "version": 3
   },
   "file_extension": ".py",
   "mimetype": "text/x-python",
   "name": "python",
   "nbconvert_exporter": "python",
   "pygments_lexer": "ipython3",
   "version": "3.8.12"
  }
 },
 "nbformat": 4,
 "nbformat_minor": 5
}
